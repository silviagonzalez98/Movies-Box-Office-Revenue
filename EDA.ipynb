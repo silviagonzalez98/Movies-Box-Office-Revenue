{
 "cells": [
  {
   "cell_type": "markdown",
   "id": "340c3996",
   "metadata": {},
   "source": [
    "## exploratory data analysis"
   ]
  },
  {
   "cell_type": "markdown",
   "id": "6a751db6",
   "metadata": {},
   "source": [
    "#### import packages"
   ]
  },
  {
   "cell_type": "code",
   "execution_count": 1,
   "id": "3066b921",
   "metadata": {},
   "outputs": [],
   "source": [
    "import pandas as pd\n",
    "import json\n",
    "from datetime import datetime\n",
    "import numpy as np\n",
    "import matplotlib.pyplot as plt\n",
    "import seaborn as sns\n",
    "import scipy.stats as stats\n",
    "from functools import reduce\n",
    "pd.set_option('display.max_columns', None)\n",
    "import warnings\n",
    "warnings.filterwarnings('ignore')\n",
    "\n",
    "from sklearn.model_selection import train_test_split\n",
    "from sklearn.linear_model import LinearRegression\n",
    "from sklearn.metrics import r2_score, mean_squared_error, mean_absolute_error\n",
    "from sklearn.preprocessing import OneHotEncoder, Normalizer, StandardScaler, LabelEncoder\n",
    "from sklearn.neighbors import KNeighborsRegressor\n",
    "from sklearn.neural_network import MLPRegressor\n",
    "from sklearn.ensemble import RandomForestRegressor"
   ]
  },
  {
   "cell_type": "markdown",
   "id": "2125d51d",
   "metadata": {},
   "source": [
    "#### upload dataset and set movie_id as index"
   ]
  },
  {
   "cell_type": "code",
   "execution_count": 2,
   "id": "651e6e7a",
   "metadata": {},
   "outputs": [
    {
     "data": {
      "text/plain": [
       "(7339, 21)"
      ]
     },
     "execution_count": 2,
     "metadata": {},
     "output_type": "execute_result"
    }
   ],
   "source": [
    "data = pd.read_csv('datacleaned.csv')\n",
    "data.shape"
   ]
  },
  {
   "cell_type": "code",
   "execution_count": 3,
   "id": "b5454abd",
   "metadata": {},
   "outputs": [],
   "source": [
    "data.drop(['Unnamed: 0'], axis=1, inplace=True)"
   ]
  },
  {
   "cell_type": "code",
   "execution_count": 4,
   "id": "861aa0be",
   "metadata": {},
   "outputs": [],
   "source": [
    "data = data.set_index('movie_id')"
   ]
  },
  {
   "cell_type": "markdown",
   "id": "31ed9b9e",
   "metadata": {},
   "source": [
    "## regression model test with only numericals"
   ]
  },
  {
   "cell_type": "code",
   "execution_count": 5,
   "id": "0f0544c5",
   "metadata": {},
   "outputs": [],
   "source": [
    "def LR():\n",
    "    model = LinearRegression()\n",
    "    model.fit(X_train,y_train)\n",
    "\n",
    "    predictions  = model.predict(X_test)\n",
    "    predictions.shape\n",
    "\n",
    "    return r2_score(y_test, predictions)"
   ]
  },
  {
   "cell_type": "code",
   "execution_count": 6,
   "id": "cb369935",
   "metadata": {},
   "outputs": [],
   "source": [
    "def KNR():\n",
    "    model = KNeighborsRegressor(n_neighbors=4)\n",
    "\n",
    "    model.fit(X_train, y_train)\n",
    "    predictions = model.predict(X_test)\n",
    "\n",
    "    return model.score(X_test, y_test)"
   ]
  },
  {
   "cell_type": "code",
   "execution_count": 7,
   "id": "46ecc5f9",
   "metadata": {},
   "outputs": [],
   "source": [
    "def MLPR():\n",
    "\n",
    "    model = MLPRegressor()\n",
    "    model.fit(X_train, y_train)\n",
    "    expected_y  = y_test\n",
    "    predicted_y = model.predict(X_test)\n",
    "\n",
    "    return r2_score(expected_y, predicted_y)"
   ]
  },
  {
   "cell_type": "code",
   "execution_count": 8,
   "id": "0f54da8c",
   "metadata": {},
   "outputs": [],
   "source": [
    "X = data.select_dtypes(np.number)"
   ]
  },
  {
   "cell_type": "code",
   "execution_count": 9,
   "id": "2b6b7aeb",
   "metadata": {},
   "outputs": [],
   "source": [
    "X.drop(['revenue'], axis=1, inplace=True)\n",
    "y=data[('revenue')]"
   ]
  },
  {
   "cell_type": "code",
   "execution_count": 10,
   "id": "c385a490",
   "metadata": {},
   "outputs": [
    {
     "data": {
      "text/plain": [
       "budget          0\n",
       "popularity      0\n",
       "runtime         0\n",
       "vote_average    0\n",
       "vote_count      0\n",
       "dtype: int64"
      ]
     },
     "execution_count": 10,
     "metadata": {},
     "output_type": "execute_result"
    }
   ],
   "source": [
    "X.isna().sum().sort_values(ascending=False)"
   ]
  },
  {
   "cell_type": "code",
   "execution_count": 11,
   "id": "659c358a",
   "metadata": {},
   "outputs": [],
   "source": [
    "X_train, X_test, y_train, y_test = train_test_split(X, y, test_size=0.2, random_state=42)"
   ]
  },
  {
   "cell_type": "code",
   "execution_count": 12,
   "id": "e9173ea1",
   "metadata": {},
   "outputs": [
    {
     "data": {
      "text/plain": [
       "(0.7180452385676053, 0.6638051021294267, 0.5514132403519849)"
      ]
     },
     "execution_count": 12,
     "metadata": {},
     "output_type": "execute_result"
    }
   ],
   "source": [
    "LR(), KNR(), MLPR()"
   ]
  },
  {
   "cell_type": "markdown",
   "id": "f9538b70",
   "metadata": {},
   "source": [
    "### handling non-numerical columns"
   ]
  },
  {
   "cell_type": "code",
   "execution_count": 13,
   "id": "bc5df30c",
   "metadata": {},
   "outputs": [
    {
     "data": {
      "text/plain": [
       "Index(['title', 'overview', 'release_date', 'genres', 'original_language',\n",
       "       'original_title', 'production_companies', 'production_countries',\n",
       "       'spoken_languages', 'status', 'keywords', 'cast', 'crew'],\n",
       "      dtype='object')"
      ]
     },
     "execution_count": 13,
     "metadata": {},
     "output_type": "execute_result"
    }
   ],
   "source": [
    "data.select_dtypes(object).columns"
   ]
  },
  {
   "cell_type": "markdown",
   "id": "8acee34c",
   "metadata": {},
   "source": [
    "#### column: overview"
   ]
  },
  {
   "cell_type": "markdown",
   "id": "ef0ddd4a",
   "metadata": {},
   "source": [
    "based on the poor information overview column gave when data visualizing, droping this column from the model"
   ]
  },
  {
   "cell_type": "code",
   "execution_count": 14,
   "id": "ce04065c",
   "metadata": {},
   "outputs": [],
   "source": [
    "data.drop(['overview'], axis=1, inplace=True)"
   ]
  },
  {
   "cell_type": "markdown",
   "id": "3da10626",
   "metadata": {},
   "source": [
    "#### column: release date"
   ]
  },
  {
   "cell_type": "markdown",
   "id": "cef2da75",
   "metadata": {},
   "source": [
    "based on data visualization, it is interesting that we perform hot encoding with months. First, we will change the column to datetime for extracting a release month column"
   ]
  },
  {
   "cell_type": "code",
   "execution_count": 15,
   "id": "1d7d53ad",
   "metadata": {},
   "outputs": [],
   "source": [
    "data['release_month'] = pd.to_datetime(data['release_date']).dt.month"
   ]
  },
  {
   "cell_type": "markdown",
   "id": "9afee5f9",
   "metadata": {},
   "source": [
    "now, we will perform hot encoding with release month new column and save as 'month_oh'"
   ]
  },
  {
   "cell_type": "code",
   "execution_count": 16,
   "id": "307b2306",
   "metadata": {},
   "outputs": [],
   "source": [
    "months_oh = pd.get_dummies(data['release_month'], columns=['release_month'])"
   ]
  },
  {
   "cell_type": "code",
   "execution_count": 17,
   "id": "ea47b0cf",
   "metadata": {},
   "outputs": [
    {
     "data": {
      "text/plain": [
       "(7339, 12)"
      ]
     },
     "execution_count": 17,
     "metadata": {},
     "output_type": "execute_result"
    }
   ],
   "source": [
    "months_oh.shape"
   ]
  },
  {
   "cell_type": "markdown",
   "id": "5a6ee32a",
   "metadata": {},
   "source": [
    "#### column: genres"
   ]
  },
  {
   "cell_type": "markdown",
   "id": "4a3018bf",
   "metadata": {},
   "source": [
    "from the data visualization part, we saw there are 19 genres, we will handle this column info splitted by ',' and perform hot encoding with them and save as 'genres_oh'"
   ]
  },
  {
   "cell_type": "code",
   "execution_count": 18,
   "id": "dba80267",
   "metadata": {},
   "outputs": [],
   "source": [
    "genres_oh = data.genres.str.split(',', expand=True).stack()"
   ]
  },
  {
   "cell_type": "code",
   "execution_count": 19,
   "id": "784a9cdc",
   "metadata": {},
   "outputs": [],
   "source": [
    "genres_oh = pd.get_dummies(genres_oh).groupby(level=0).sum()"
   ]
  },
  {
   "cell_type": "code",
   "execution_count": 20,
   "id": "cabb750f",
   "metadata": {},
   "outputs": [
    {
     "data": {
      "text/html": [
       "<div>\n",
       "<style scoped>\n",
       "    .dataframe tbody tr th:only-of-type {\n",
       "        vertical-align: middle;\n",
       "    }\n",
       "\n",
       "    .dataframe tbody tr th {\n",
       "        vertical-align: top;\n",
       "    }\n",
       "\n",
       "    .dataframe thead th {\n",
       "        text-align: right;\n",
       "    }\n",
       "</style>\n",
       "<table border=\"1\" class=\"dataframe\">\n",
       "  <thead>\n",
       "    <tr style=\"text-align: right;\">\n",
       "      <th></th>\n",
       "      <th>Action</th>\n",
       "      <th>Adventure</th>\n",
       "      <th>Animation</th>\n",
       "      <th>Comedy</th>\n",
       "      <th>Crime</th>\n",
       "      <th>Documentary</th>\n",
       "      <th>Drama</th>\n",
       "      <th>Family</th>\n",
       "      <th>Fantasy</th>\n",
       "      <th>History</th>\n",
       "      <th>Horror</th>\n",
       "      <th>Music</th>\n",
       "      <th>Mystery</th>\n",
       "      <th>Romance</th>\n",
       "      <th>Science Fiction</th>\n",
       "      <th>TV Movie</th>\n",
       "      <th>Thriller</th>\n",
       "      <th>War</th>\n",
       "      <th>Western</th>\n",
       "    </tr>\n",
       "    <tr>\n",
       "      <th>movie_id</th>\n",
       "      <th></th>\n",
       "      <th></th>\n",
       "      <th></th>\n",
       "      <th></th>\n",
       "      <th></th>\n",
       "      <th></th>\n",
       "      <th></th>\n",
       "      <th></th>\n",
       "      <th></th>\n",
       "      <th></th>\n",
       "      <th></th>\n",
       "      <th></th>\n",
       "      <th></th>\n",
       "      <th></th>\n",
       "      <th></th>\n",
       "      <th></th>\n",
       "      <th></th>\n",
       "      <th></th>\n",
       "      <th></th>\n",
       "    </tr>\n",
       "  </thead>\n",
       "  <tbody>\n",
       "    <tr>\n",
       "      <th>5</th>\n",
       "      <td>0</td>\n",
       "      <td>0</td>\n",
       "      <td>0</td>\n",
       "      <td>1</td>\n",
       "      <td>1</td>\n",
       "      <td>0</td>\n",
       "      <td>0</td>\n",
       "      <td>0</td>\n",
       "      <td>0</td>\n",
       "      <td>0</td>\n",
       "      <td>0</td>\n",
       "      <td>0</td>\n",
       "      <td>0</td>\n",
       "      <td>0</td>\n",
       "      <td>0</td>\n",
       "      <td>0</td>\n",
       "      <td>0</td>\n",
       "      <td>0</td>\n",
       "      <td>0</td>\n",
       "    </tr>\n",
       "    <tr>\n",
       "      <th>6</th>\n",
       "      <td>1</td>\n",
       "      <td>0</td>\n",
       "      <td>0</td>\n",
       "      <td>0</td>\n",
       "      <td>1</td>\n",
       "      <td>0</td>\n",
       "      <td>0</td>\n",
       "      <td>0</td>\n",
       "      <td>0</td>\n",
       "      <td>0</td>\n",
       "      <td>0</td>\n",
       "      <td>0</td>\n",
       "      <td>0</td>\n",
       "      <td>0</td>\n",
       "      <td>0</td>\n",
       "      <td>0</td>\n",
       "      <td>1</td>\n",
       "      <td>0</td>\n",
       "      <td>0</td>\n",
       "    </tr>\n",
       "    <tr>\n",
       "      <th>12</th>\n",
       "      <td>0</td>\n",
       "      <td>0</td>\n",
       "      <td>1</td>\n",
       "      <td>0</td>\n",
       "      <td>0</td>\n",
       "      <td>0</td>\n",
       "      <td>0</td>\n",
       "      <td>1</td>\n",
       "      <td>0</td>\n",
       "      <td>0</td>\n",
       "      <td>0</td>\n",
       "      <td>0</td>\n",
       "      <td>0</td>\n",
       "      <td>0</td>\n",
       "      <td>0</td>\n",
       "      <td>0</td>\n",
       "      <td>0</td>\n",
       "      <td>0</td>\n",
       "      <td>0</td>\n",
       "    </tr>\n",
       "    <tr>\n",
       "      <th>13</th>\n",
       "      <td>0</td>\n",
       "      <td>0</td>\n",
       "      <td>0</td>\n",
       "      <td>1</td>\n",
       "      <td>0</td>\n",
       "      <td>0</td>\n",
       "      <td>1</td>\n",
       "      <td>0</td>\n",
       "      <td>0</td>\n",
       "      <td>0</td>\n",
       "      <td>0</td>\n",
       "      <td>0</td>\n",
       "      <td>0</td>\n",
       "      <td>1</td>\n",
       "      <td>0</td>\n",
       "      <td>0</td>\n",
       "      <td>0</td>\n",
       "      <td>0</td>\n",
       "      <td>0</td>\n",
       "    </tr>\n",
       "    <tr>\n",
       "      <th>14</th>\n",
       "      <td>0</td>\n",
       "      <td>0</td>\n",
       "      <td>0</td>\n",
       "      <td>0</td>\n",
       "      <td>0</td>\n",
       "      <td>0</td>\n",
       "      <td>1</td>\n",
       "      <td>0</td>\n",
       "      <td>0</td>\n",
       "      <td>0</td>\n",
       "      <td>0</td>\n",
       "      <td>0</td>\n",
       "      <td>0</td>\n",
       "      <td>0</td>\n",
       "      <td>0</td>\n",
       "      <td>0</td>\n",
       "      <td>0</td>\n",
       "      <td>0</td>\n",
       "      <td>0</td>\n",
       "    </tr>\n",
       "    <tr>\n",
       "      <th>...</th>\n",
       "      <td>...</td>\n",
       "      <td>...</td>\n",
       "      <td>...</td>\n",
       "      <td>...</td>\n",
       "      <td>...</td>\n",
       "      <td>...</td>\n",
       "      <td>...</td>\n",
       "      <td>...</td>\n",
       "      <td>...</td>\n",
       "      <td>...</td>\n",
       "      <td>...</td>\n",
       "      <td>...</td>\n",
       "      <td>...</td>\n",
       "      <td>...</td>\n",
       "      <td>...</td>\n",
       "      <td>...</td>\n",
       "      <td>...</td>\n",
       "      <td>...</td>\n",
       "      <td>...</td>\n",
       "    </tr>\n",
       "    <tr>\n",
       "      <th>118784</th>\n",
       "      <td>1</td>\n",
       "      <td>0</td>\n",
       "      <td>0</td>\n",
       "      <td>0</td>\n",
       "      <td>0</td>\n",
       "      <td>0</td>\n",
       "      <td>0</td>\n",
       "      <td>0</td>\n",
       "      <td>0</td>\n",
       "      <td>0</td>\n",
       "      <td>0</td>\n",
       "      <td>0</td>\n",
       "      <td>0</td>\n",
       "      <td>0</td>\n",
       "      <td>0</td>\n",
       "      <td>0</td>\n",
       "      <td>1</td>\n",
       "      <td>0</td>\n",
       "      <td>0</td>\n",
       "    </tr>\n",
       "    <tr>\n",
       "      <th>118957</th>\n",
       "      <td>1</td>\n",
       "      <td>0</td>\n",
       "      <td>0</td>\n",
       "      <td>0</td>\n",
       "      <td>0</td>\n",
       "      <td>0</td>\n",
       "      <td>0</td>\n",
       "      <td>0</td>\n",
       "      <td>0</td>\n",
       "      <td>0</td>\n",
       "      <td>1</td>\n",
       "      <td>0</td>\n",
       "      <td>0</td>\n",
       "      <td>0</td>\n",
       "      <td>0</td>\n",
       "      <td>0</td>\n",
       "      <td>1</td>\n",
       "      <td>0</td>\n",
       "      <td>0</td>\n",
       "    </tr>\n",
       "    <tr>\n",
       "      <th>118991</th>\n",
       "      <td>0</td>\n",
       "      <td>0</td>\n",
       "      <td>0</td>\n",
       "      <td>0</td>\n",
       "      <td>1</td>\n",
       "      <td>0</td>\n",
       "      <td>1</td>\n",
       "      <td>0</td>\n",
       "      <td>0</td>\n",
       "      <td>0</td>\n",
       "      <td>0</td>\n",
       "      <td>0</td>\n",
       "      <td>0</td>\n",
       "      <td>0</td>\n",
       "      <td>0</td>\n",
       "      <td>0</td>\n",
       "      <td>1</td>\n",
       "      <td>0</td>\n",
       "      <td>0</td>\n",
       "    </tr>\n",
       "    <tr>\n",
       "      <th>119123</th>\n",
       "      <td>1</td>\n",
       "      <td>0</td>\n",
       "      <td>0</td>\n",
       "      <td>1</td>\n",
       "      <td>1</td>\n",
       "      <td>0</td>\n",
       "      <td>1</td>\n",
       "      <td>0</td>\n",
       "      <td>0</td>\n",
       "      <td>0</td>\n",
       "      <td>0</td>\n",
       "      <td>0</td>\n",
       "      <td>0</td>\n",
       "      <td>0</td>\n",
       "      <td>0</td>\n",
       "      <td>0</td>\n",
       "      <td>0</td>\n",
       "      <td>0</td>\n",
       "      <td>0</td>\n",
       "    </tr>\n",
       "    <tr>\n",
       "      <th>119283</th>\n",
       "      <td>1</td>\n",
       "      <td>0</td>\n",
       "      <td>0</td>\n",
       "      <td>0</td>\n",
       "      <td>1</td>\n",
       "      <td>0</td>\n",
       "      <td>0</td>\n",
       "      <td>0</td>\n",
       "      <td>0</td>\n",
       "      <td>0</td>\n",
       "      <td>0</td>\n",
       "      <td>0</td>\n",
       "      <td>0</td>\n",
       "      <td>0</td>\n",
       "      <td>0</td>\n",
       "      <td>0</td>\n",
       "      <td>0</td>\n",
       "      <td>0</td>\n",
       "      <td>0</td>\n",
       "    </tr>\n",
       "  </tbody>\n",
       "</table>\n",
       "<p>7307 rows × 19 columns</p>\n",
       "</div>"
      ],
      "text/plain": [
       "          Action  Adventure  Animation  Comedy  Crime  Documentary  Drama  \\\n",
       "movie_id                                                                    \n",
       "5              0          0          0       1      1            0      0   \n",
       "6              1          0          0       0      1            0      0   \n",
       "12             0          0          1       0      0            0      0   \n",
       "13             0          0          0       1      0            0      1   \n",
       "14             0          0          0       0      0            0      1   \n",
       "...          ...        ...        ...     ...    ...          ...    ...   \n",
       "118784         1          0          0       0      0            0      0   \n",
       "118957         1          0          0       0      0            0      0   \n",
       "118991         0          0          0       0      1            0      1   \n",
       "119123         1          0          0       1      1            0      1   \n",
       "119283         1          0          0       0      1            0      0   \n",
       "\n",
       "          Family  Fantasy  History  Horror  Music  Mystery  Romance  \\\n",
       "movie_id                                                              \n",
       "5              0        0        0       0      0        0        0   \n",
       "6              0        0        0       0      0        0        0   \n",
       "12             1        0        0       0      0        0        0   \n",
       "13             0        0        0       0      0        0        1   \n",
       "14             0        0        0       0      0        0        0   \n",
       "...          ...      ...      ...     ...    ...      ...      ...   \n",
       "118784         0        0        0       0      0        0        0   \n",
       "118957         0        0        0       1      0        0        0   \n",
       "118991         0        0        0       0      0        0        0   \n",
       "119123         0        0        0       0      0        0        0   \n",
       "119283         0        0        0       0      0        0        0   \n",
       "\n",
       "          Science Fiction  TV Movie  Thriller  War  Western  \n",
       "movie_id                                                     \n",
       "5                       0         0         0    0        0  \n",
       "6                       0         0         1    0        0  \n",
       "12                      0         0         0    0        0  \n",
       "13                      0         0         0    0        0  \n",
       "14                      0         0         0    0        0  \n",
       "...                   ...       ...       ...  ...      ...  \n",
       "118784                  0         0         1    0        0  \n",
       "118957                  0         0         1    0        0  \n",
       "118991                  0         0         1    0        0  \n",
       "119123                  0         0         0    0        0  \n",
       "119283                  0         0         0    0        0  \n",
       "\n",
       "[7307 rows x 19 columns]"
      ]
     },
     "execution_count": 20,
     "metadata": {},
     "output_type": "execute_result"
    }
   ],
   "source": [
    "genres_oh"
   ]
  },
  {
   "cell_type": "markdown",
   "id": "0b75c569",
   "metadata": {},
   "source": [
    "#### column: original language"
   ]
  },
  {
   "cell_type": "markdown",
   "id": "8df402ae",
   "metadata": {},
   "source": [
    "in the data visualization part, we saw 6k films were in english as original language. I will encode this column by en and the rest"
   ]
  },
  {
   "cell_type": "code",
   "execution_count": 21,
   "id": "4fd85ad7",
   "metadata": {},
   "outputs": [],
   "source": [
    "origlang_oh = data['original_language']"
   ]
  },
  {
   "cell_type": "code",
   "execution_count": 22,
   "id": "81492fe4",
   "metadata": {},
   "outputs": [],
   "source": [
    "origlang_oh = pd.DataFrame(origlang_oh).rename(columns={\"title\": \"count\"})"
   ]
  },
  {
   "cell_type": "code",
   "execution_count": 23,
   "id": "6f53fd3b",
   "metadata": {},
   "outputs": [],
   "source": [
    "origlang_oh.loc[~origlang_oh[\"original_language\"].isin(['en']), \"original_language\"] = \"Others\""
   ]
  },
  {
   "cell_type": "code",
   "execution_count": 24,
   "id": "0d55f29f",
   "metadata": {},
   "outputs": [],
   "source": [
    "origlang_oh = pd.get_dummies(origlang_oh).groupby(level=0).sum()"
   ]
  },
  {
   "cell_type": "markdown",
   "id": "5b4378c1",
   "metadata": {},
   "source": [
    "#### column: production companies"
   ]
  },
  {
   "cell_type": "markdown",
   "id": "874e1bfb",
   "metadata": {},
   "source": [
    "we will hot encode the 3 most frequent production companies according to data visualization step: Warner Bros, Universal Pictures and Columbia Pictures, and others for the rest of production companies. Will save it in 'bigfour_oh'"
   ]
  },
  {
   "cell_type": "code",
   "execution_count": 25,
   "id": "f062a3fe",
   "metadata": {},
   "outputs": [],
   "source": [
    "data['production_companies'] = data['production_companies'].fillna('None')"
   ]
  },
  {
   "cell_type": "code",
   "execution_count": 26,
   "id": "5ca8ab74",
   "metadata": {},
   "outputs": [],
   "source": [
    "warner = data[data.production_companies.str.contains('Warner')]\n",
    "warner['warner'] = 1\n",
    "warner = warner[['warner']]"
   ]
  },
  {
   "cell_type": "code",
   "execution_count": 27,
   "id": "27c277e1",
   "metadata": {},
   "outputs": [],
   "source": [
    "data = pd.merge(data,warner, on='movie_id',how='left')\n",
    "data['warner'] = data['warner'].fillna(0)"
   ]
  },
  {
   "cell_type": "code",
   "execution_count": 28,
   "id": "9b999ec9",
   "metadata": {},
   "outputs": [],
   "source": [
    "universal = data[data.production_companies.str.contains('Universal Pictures')]\n",
    "universal['universal'] = 1\n",
    "universal = universal[['universal']]"
   ]
  },
  {
   "cell_type": "code",
   "execution_count": 29,
   "id": "511e8799",
   "metadata": {},
   "outputs": [],
   "source": [
    "data = pd.merge(data,universal, on='movie_id',how='left')\n",
    "data['universal'] = data['universal'].fillna(0)"
   ]
  },
  {
   "cell_type": "code",
   "execution_count": 30,
   "id": "436671a4",
   "metadata": {},
   "outputs": [],
   "source": [
    "columbia = data[data.production_companies.str.contains('Columbia Pictures')]\n",
    "columbia['columbia'] = 1\n",
    "columbia = columbia[['columbia']]"
   ]
  },
  {
   "cell_type": "code",
   "execution_count": 31,
   "id": "3ec71657",
   "metadata": {},
   "outputs": [],
   "source": [
    "data = pd.merge(data,columbia, on='movie_id',how='left')\n",
    "data['columbia'] = data['columbia'].fillna(0)"
   ]
  },
  {
   "cell_type": "markdown",
   "id": "39ba8709",
   "metadata": {},
   "source": [
    "#### column: spoken languages"
   ]
  },
  {
   "cell_type": "markdown",
   "id": "54f668ef",
   "metadata": {},
   "source": [
    "hot encoding of spoken languages column"
   ]
  },
  {
   "cell_type": "code",
   "execution_count": 32,
   "id": "b9b6015c",
   "metadata": {},
   "outputs": [],
   "source": [
    "spokenlanguages_oh = data['spoken_languages'].fillna('None')"
   ]
  },
  {
   "cell_type": "code",
   "execution_count": 33,
   "id": "54f5d134",
   "metadata": {},
   "outputs": [],
   "source": [
    "spokenlanguages_oh = data.spoken_languages.str.split(',', expand=True).stack()"
   ]
  },
  {
   "cell_type": "code",
   "execution_count": 34,
   "id": "cff174a2",
   "metadata": {},
   "outputs": [],
   "source": [
    "spokenlanguages_oh = pd.get_dummies(spokenlanguages_oh).groupby(level=0).sum()"
   ]
  },
  {
   "cell_type": "code",
   "execution_count": 35,
   "id": "3debf2ec",
   "metadata": {},
   "outputs": [
    {
     "data": {
      "text/plain": [
       "(7272, 66)"
      ]
     },
     "execution_count": 35,
     "metadata": {},
     "output_type": "execute_result"
    }
   ],
   "source": [
    "spokenlanguages_oh.shape"
   ]
  },
  {
   "cell_type": "markdown",
   "id": "9b394f99",
   "metadata": {},
   "source": [
    "#### column: keywords"
   ]
  },
  {
   "cell_type": "markdown",
   "id": "7d241764",
   "metadata": {},
   "source": [
    "will hot encode keywords column with most frequesnt words (according to data visualization). These are: murder, police, revenge"
   ]
  },
  {
   "cell_type": "code",
   "execution_count": 37,
   "id": "f7a8c689",
   "metadata": {},
   "outputs": [],
   "source": [
    "kw_oh = data['keywords']"
   ]
  },
  {
   "cell_type": "code",
   "execution_count": 38,
   "id": "2ae08668",
   "metadata": {},
   "outputs": [],
   "source": [
    "kw_oh = pd.DataFrame(kw_oh).rename(columns={\"title\": \"count\"})"
   ]
  },
  {
   "cell_type": "code",
   "execution_count": 39,
   "id": "c0b80a51",
   "metadata": {},
   "outputs": [],
   "source": [
    "kw_oh.loc[~kw_oh[\"keywords\"].isin(['revenge','police']), \"keywords\"] = \"Others\""
   ]
  },
  {
   "cell_type": "code",
   "execution_count": 40,
   "id": "3e23e66c",
   "metadata": {},
   "outputs": [],
   "source": [
    "data['keywords'] = data['keywords'].fillna('None')"
   ]
  },
  {
   "cell_type": "code",
   "execution_count": 41,
   "id": "d31ad3df",
   "metadata": {},
   "outputs": [],
   "source": [
    "murder = data[data.keywords.str.contains('murder')]"
   ]
  },
  {
   "cell_type": "code",
   "execution_count": 42,
   "id": "3f7023b2",
   "metadata": {},
   "outputs": [],
   "source": [
    "murder['keyword_murder'] = 1"
   ]
  },
  {
   "cell_type": "code",
   "execution_count": 43,
   "id": "baf7ace0",
   "metadata": {},
   "outputs": [],
   "source": [
    "murder = murder['keyword_murder']"
   ]
  },
  {
   "cell_type": "code",
   "execution_count": 44,
   "id": "bd58fcd2",
   "metadata": {},
   "outputs": [],
   "source": [
    "kw_oh = pd.merge(kw_oh,murder, on='movie_id',how='left')"
   ]
  },
  {
   "cell_type": "code",
   "execution_count": 45,
   "id": "02773e4b",
   "metadata": {},
   "outputs": [],
   "source": [
    "kw_oh = pd.get_dummies(kw_oh).groupby(level=0).sum()"
   ]
  },
  {
   "cell_type": "code",
   "execution_count": 46,
   "id": "39916050",
   "metadata": {},
   "outputs": [
    {
     "data": {
      "text/html": [
       "<div>\n",
       "<style scoped>\n",
       "    .dataframe tbody tr th:only-of-type {\n",
       "        vertical-align: middle;\n",
       "    }\n",
       "\n",
       "    .dataframe tbody tr th {\n",
       "        vertical-align: top;\n",
       "    }\n",
       "\n",
       "    .dataframe thead th {\n",
       "        text-align: right;\n",
       "    }\n",
       "</style>\n",
       "<table border=\"1\" class=\"dataframe\">\n",
       "  <thead>\n",
       "    <tr style=\"text-align: right;\">\n",
       "      <th></th>\n",
       "      <th>keyword_murder</th>\n",
       "      <th>keywords_Others</th>\n",
       "      <th>keywords_police</th>\n",
       "      <th>keywords_revenge</th>\n",
       "    </tr>\n",
       "    <tr>\n",
       "      <th>movie_id</th>\n",
       "      <th></th>\n",
       "      <th></th>\n",
       "      <th></th>\n",
       "      <th></th>\n",
       "    </tr>\n",
       "  </thead>\n",
       "  <tbody>\n",
       "    <tr>\n",
       "      <th>5</th>\n",
       "      <td>0.0</td>\n",
       "      <td>1</td>\n",
       "      <td>0</td>\n",
       "      <td>0</td>\n",
       "    </tr>\n",
       "    <tr>\n",
       "      <th>6</th>\n",
       "      <td>0.0</td>\n",
       "      <td>1</td>\n",
       "      <td>0</td>\n",
       "      <td>0</td>\n",
       "    </tr>\n",
       "    <tr>\n",
       "      <th>12</th>\n",
       "      <td>0.0</td>\n",
       "      <td>1</td>\n",
       "      <td>0</td>\n",
       "      <td>0</td>\n",
       "    </tr>\n",
       "    <tr>\n",
       "      <th>13</th>\n",
       "      <td>0.0</td>\n",
       "      <td>1</td>\n",
       "      <td>0</td>\n",
       "      <td>0</td>\n",
       "    </tr>\n",
       "    <tr>\n",
       "      <th>14</th>\n",
       "      <td>0.0</td>\n",
       "      <td>1</td>\n",
       "      <td>0</td>\n",
       "      <td>0</td>\n",
       "    </tr>\n",
       "  </tbody>\n",
       "</table>\n",
       "</div>"
      ],
      "text/plain": [
       "          keyword_murder  keywords_Others  keywords_police  keywords_revenge\n",
       "movie_id                                                                    \n",
       "5                    0.0                1                0                 0\n",
       "6                    0.0                1                0                 0\n",
       "12                   0.0                1                0                 0\n",
       "13                   0.0                1                0                 0\n",
       "14                   0.0                1                0                 0"
      ]
     },
     "execution_count": 46,
     "metadata": {},
     "output_type": "execute_result"
    }
   ],
   "source": [
    "kw_oh.head(5)"
   ]
  },
  {
   "cell_type": "markdown",
   "id": "cd29ef9b",
   "metadata": {},
   "source": [
    "#### column: crew"
   ]
  },
  {
   "cell_type": "markdown",
   "id": "1ba2115d",
   "metadata": {},
   "source": [
    "I will hot encode crew column by Steven Spielberg films, Clint Eastwood films, and others"
   ]
  },
  {
   "cell_type": "code",
   "execution_count": 47,
   "id": "dc9d323f",
   "metadata": {},
   "outputs": [],
   "source": [
    "crew_oh = data['crew']"
   ]
  },
  {
   "cell_type": "code",
   "execution_count": 48,
   "id": "fcbc583d",
   "metadata": {},
   "outputs": [],
   "source": [
    "crew_oh = pd.DataFrame(crew_oh).rename(columns={\"title\": \"count\"})"
   ]
  },
  {
   "cell_type": "code",
   "execution_count": 49,
   "id": "840c0748",
   "metadata": {},
   "outputs": [],
   "source": [
    "crew_oh.loc[~crew_oh[\"crew\"].isin(['StevenSpielberg','ClintEastwood']), \"crew\"] = \"None\""
   ]
  },
  {
   "cell_type": "code",
   "execution_count": 50,
   "id": "09524540",
   "metadata": {},
   "outputs": [],
   "source": [
    "crew_oh = pd.get_dummies(crew_oh).groupby(level=0).sum()"
   ]
  },
  {
   "cell_type": "code",
   "execution_count": 51,
   "id": "3f688191",
   "metadata": {},
   "outputs": [
    {
     "data": {
      "text/plain": [
       "(7339, 3)"
      ]
     },
     "execution_count": 51,
     "metadata": {},
     "output_type": "execute_result"
    }
   ],
   "source": [
    "crew_oh.shape"
   ]
  },
  {
   "cell_type": "markdown",
   "id": "39f64d46",
   "metadata": {},
   "source": [
    "## build model with categoricals oh dataframes created"
   ]
  },
  {
   "cell_type": "code",
   "execution_count": 52,
   "id": "e686fa98",
   "metadata": {},
   "outputs": [],
   "source": [
    "rmodel_categoricals = [months_oh, genres_oh, origlang_oh, spokenlanguages_oh, kw_oh, crew_oh]\n",
    "\n",
    "df_merged = reduce(lambda left,right: pd.merge(left,right, on='movie_id', how='outer'), rmodel_categoricals)"
   ]
  },
  {
   "cell_type": "code",
   "execution_count": 53,
   "id": "7055011a",
   "metadata": {},
   "outputs": [],
   "source": [
    "X_num = data.select_dtypes(np.number)"
   ]
  },
  {
   "cell_type": "code",
   "execution_count": 54,
   "id": "e86fd3dd",
   "metadata": {},
   "outputs": [],
   "source": [
    "X_cat = df_merged"
   ]
  },
  {
   "cell_type": "code",
   "execution_count": 55,
   "id": "74c9f066",
   "metadata": {},
   "outputs": [],
   "source": [
    "X = pd.merge(X_num,df_merged, on='movie_id')"
   ]
  },
  {
   "cell_type": "code",
   "execution_count": 56,
   "id": "114c593f",
   "metadata": {},
   "outputs": [],
   "source": [
    "X = pd.merge(X_num,X_cat, on='movie_id')"
   ]
  },
  {
   "cell_type": "markdown",
   "id": "a2bc9be0",
   "metadata": {},
   "source": [
    "## feature engineering"
   ]
  },
  {
   "cell_type": "code",
   "execution_count": 57,
   "id": "b23d0426",
   "metadata": {},
   "outputs": [
    {
     "data": {
      "text/plain": [
       "title                                                           Inception\n",
       "release_date                                                   2010-07-15\n",
       "genres                                   Action,Science Fiction,Adventure\n",
       "budget                                                          160000000\n",
       "original_language                                                      en\n",
       "original_title                                                  Inception\n",
       "popularity                                                        155.584\n",
       "production_companies     Legendary Pictures,Syncopy,Warner Bros. Pictures\n",
       "production_countries              United Kingdom,United States of America\n",
       "runtime                                                             148.0\n",
       "spoken_languages                                              English,日本語\n",
       "status                                                           Released\n",
       "vote_average                                                          8.3\n",
       "vote_count                                                          30176\n",
       "keywords                paris, france,spy,philosophy,allegory,dream,ki...\n",
       "cast                                                     LeonardoDiCaprio\n",
       "crew                                                     ChristopherNolan\n",
       "revenue                                                         825532764\n",
       "release_month                                                           7\n",
       "warner                                                                1.0\n",
       "universal                                                             0.0\n",
       "columbia                                                              0.0\n",
       "Name: 27205, dtype: object"
      ]
     },
     "execution_count": 57,
     "metadata": {},
     "output_type": "execute_result"
    }
   ],
   "source": [
    "data.loc[27205]"
   ]
  },
  {
   "cell_type": "code",
   "execution_count": 58,
   "id": "3ffbf3f6",
   "metadata": {},
   "outputs": [
    {
     "data": {
      "text/plain": [
       "movie_id\n",
       "27205    30176\n",
       "155      26143\n",
       "Name: vote_count, dtype: int64"
      ]
     },
     "execution_count": 58,
     "metadata": {},
     "output_type": "execute_result"
    }
   ],
   "source": [
    "data['vote_count'].sort_values(ascending=False)[:2]"
   ]
  },
  {
   "cell_type": "code",
   "execution_count": 59,
   "id": "7da14765",
   "metadata": {},
   "outputs": [],
   "source": [
    "data = data[data['vote_count']<26143]"
   ]
  },
  {
   "cell_type": "code",
   "execution_count": 60,
   "id": "8a99c21b",
   "metadata": {},
   "outputs": [],
   "source": [
    "data.drop(['release_month'], axis=1, inplace=True)"
   ]
  },
  {
   "cell_type": "code",
   "execution_count": 61,
   "id": "6b1931f2",
   "metadata": {},
   "outputs": [],
   "source": [
    "X_num = data.select_dtypes(np.number)"
   ]
  },
  {
   "cell_type": "code",
   "execution_count": 62,
   "id": "a0bc4689",
   "metadata": {},
   "outputs": [],
   "source": [
    "X = pd.merge(X_num,X_cat, on='movie_id',how='left')"
   ]
  },
  {
   "cell_type": "code",
   "execution_count": 63,
   "id": "6985f09c",
   "metadata": {},
   "outputs": [],
   "source": [
    "X.drop(['revenue'], axis=1, inplace=True)\n",
    "y=data[('revenue')]"
   ]
  },
  {
   "cell_type": "code",
   "execution_count": 64,
   "id": "19624f5f",
   "metadata": {},
   "outputs": [],
   "source": [
    "X = X.fillna(0)"
   ]
  },
  {
   "cell_type": "code",
   "execution_count": 65,
   "id": "b4a08c41",
   "metadata": {},
   "outputs": [],
   "source": [
    "X_train, X_test, y_train, y_test = train_test_split(X, y, test_size=0.2, random_state=42)"
   ]
  },
  {
   "cell_type": "code",
   "execution_count": 66,
   "id": "d1440b0c",
   "metadata": {},
   "outputs": [
    {
     "data": {
      "text/plain": [
       "(0.8024859663336612, 0.673625818894129, 0.6176045811946846)"
      ]
     },
     "execution_count": 66,
     "metadata": {},
     "output_type": "execute_result"
    }
   ],
   "source": [
    "LR(), KNR(), MLPR()"
   ]
  },
  {
   "cell_type": "markdown",
   "id": "fa0a4bc5",
   "metadata": {},
   "source": [
    "##### random forest"
   ]
  },
  {
   "cell_type": "code",
   "execution_count": 67,
   "id": "cf89d01c",
   "metadata": {},
   "outputs": [],
   "source": [
    "feature_list = list(X.columns)"
   ]
  },
  {
   "cell_type": "code",
   "execution_count": 68,
   "id": "3b27f787",
   "metadata": {},
   "outputs": [],
   "source": [
    "y=data[('revenue')]\n",
    "y=pd.DataFrame(y)"
   ]
  },
  {
   "cell_type": "code",
   "execution_count": 69,
   "id": "a8b1ff00",
   "metadata": {},
   "outputs": [],
   "source": [
    "Y=np.array(y)"
   ]
  },
  {
   "cell_type": "code",
   "execution_count": 70,
   "id": "f8399c52",
   "metadata": {},
   "outputs": [
    {
     "data": {
      "text/plain": [
       "RandomForestRegressor(n_estimators=10, random_state=42)"
      ]
     },
     "execution_count": 70,
     "metadata": {},
     "output_type": "execute_result"
    }
   ],
   "source": [
    "regressor = RandomForestRegressor(n_estimators = 10, random_state = 42)\n",
    "regressor.fit(X_train,y_train)"
   ]
  },
  {
   "cell_type": "code",
   "execution_count": 71,
   "id": "2ab02a09",
   "metadata": {},
   "outputs": [],
   "source": [
    "y_pred = regressor.predict(X_test)"
   ]
  },
  {
   "cell_type": "code",
   "execution_count": 72,
   "id": "ee91e87a",
   "metadata": {},
   "outputs": [
    {
     "data": {
      "text/plain": [
       "0.818873350961909"
      ]
     },
     "execution_count": 72,
     "metadata": {},
     "output_type": "execute_result"
    }
   ],
   "source": [
    "r2_score(y_test,y_pred)"
   ]
  },
  {
   "cell_type": "code",
   "execution_count": 79,
   "id": "c9396767",
   "metadata": {},
   "outputs": [
    {
     "name": "stdout",
     "output_type": "stream",
     "text": [
      "vote_count           0.6257\n",
      "budget               0.173\n",
      "popularity           0.0563\n",
      "runtime              0.0336\n",
      "vote_average         0.0193\n",
      "                   6 0.0084\n",
      "Adventure            0.0054\n",
      "                   5 0.0053\n",
      "Science Fiction      0.005\n",
      "Drama                0.0042\n",
      "Comedy               0.0038\n",
      "Romance              0.0034\n",
      "Français             0.0033\n",
      "Family               0.003\n",
      "crew_StevenSpielberg 0.0029\n",
      "Fantasy              0.0028\n",
      "Thriller             0.0027\n",
      "Action               0.0026\n",
      "warner               0.0021\n",
      "                  11 0.002\n",
      "ελληνικά             0.002\n",
      "universal            0.0019\n",
      "Crime                0.0019\n",
      "                  12 0.0018\n",
      "                   7 0.0017\n",
      "Animation            0.0017\n",
      "                   3 0.0015\n",
      "Music                0.0013\n",
      "日本語                  0.0013\n",
      "columbia             0.0012\n",
      "Pусский              0.0012\n",
      "עִבְרִית             0.0012\n",
      "                   4 0.0011\n",
      "                   9 0.0011\n",
      "Español              0.001\n",
      "Italiano             0.001\n",
      "Português            0.001\n",
      "                  10 0.0009\n",
      "History              0.0008\n",
      "                   2 0.0007\n",
      "                   8 0.0007\n",
      "keyword_murder       0.0007\n",
      "                   1 0.0005\n",
      "Mystery              0.0005\n",
      "War                  0.0005\n",
      "Horror               0.0004\n",
      "Latin                0.0004\n",
      "Magyar               0.0004\n",
      "original_language_Others 0.0003\n",
      "original_language_en 0.0003\n",
      "Deutsch              0.0003\n",
      "Nederlands           0.0003\n",
      "svenska              0.0003\n",
      "Íslenska             0.0003\n",
      "العربية              0.0003\n",
      "Documentary          0.0002\n",
      "Western              0.0002\n",
      "English              0.0002\n",
      "Tiếng Việt           0.0002\n",
      "Český                0.0002\n",
      "广州话 / 廣州話            0.0002\n",
      "普通话                  0.0002\n",
      "crew_None            0.0002\n",
      "TV Movie             0.0001\n",
      "                     0.0001\n",
      "Română               0.0001\n",
      "اردو                 0.0001\n",
      "हिन्दी               0.0001\n",
      "한국어/조선말              0.0001\n",
      "?????                0.0\n",
      "Afrikaans            0.0\n",
      "Bahasa indonesia     0.0\n",
      "Bahasa melayu        0.0\n",
      "Bamanankan           0.0\n",
      "Bosanski             0.0\n",
      "Català               0.0\n",
      "Cymraeg              0.0\n",
      "Dansk                0.0\n",
      "Eesti                0.0\n",
      "Esperanto            0.0\n",
      "Gaeilge              0.0\n",
      "Galego               0.0\n",
      "Hrvatski             0.0\n",
      "Kiswahili            0.0\n",
      "Lietuvių             0.0\n",
      "No Language          0.0\n",
      "Norsk                0.0\n",
      "Polski               0.0\n",
      "Slovenčina           0.0\n",
      "Slovenščina          0.0\n",
      "Somali               0.0\n",
      "Srpski               0.0\n",
      "Türkçe               0.0\n",
      "Wolof                0.0\n",
      "euskera              0.0\n",
      "isiZulu              0.0\n",
      "shqip                0.0\n",
      "suomi                0.0\n",
      "Український          0.0\n",
      "беларуская мова      0.0\n",
      "български език       0.0\n",
      "فارسی                0.0\n",
      "پښتو                 0.0\n",
      "বাংলা                0.0\n",
      "ਪੰਜਾਬੀ               0.0\n",
      "தமிழ்                0.0\n",
      "తెలుగు               0.0\n",
      "සිංහල                0.0\n",
      "ภาษาไทย              0.0\n",
      "ქართული              0.0\n",
      "keywords_Others      0.0\n",
      "keywords_police      0.0\n",
      "keywords_revenge     0.0\n",
      "crew_ClintEastwood   0.0\n"
     ]
    },
    {
     "data": {
      "text/plain": [
       "[None,\n",
       " None,\n",
       " None,\n",
       " None,\n",
       " None,\n",
       " None,\n",
       " None,\n",
       " None,\n",
       " None,\n",
       " None,\n",
       " None,\n",
       " None,\n",
       " None,\n",
       " None,\n",
       " None,\n",
       " None,\n",
       " None,\n",
       " None,\n",
       " None,\n",
       " None,\n",
       " None,\n",
       " None,\n",
       " None,\n",
       " None,\n",
       " None,\n",
       " None,\n",
       " None,\n",
       " None,\n",
       " None,\n",
       " None,\n",
       " None,\n",
       " None,\n",
       " None,\n",
       " None,\n",
       " None,\n",
       " None,\n",
       " None,\n",
       " None,\n",
       " None,\n",
       " None,\n",
       " None,\n",
       " None,\n",
       " None,\n",
       " None,\n",
       " None,\n",
       " None,\n",
       " None,\n",
       " None,\n",
       " None,\n",
       " None,\n",
       " None,\n",
       " None,\n",
       " None,\n",
       " None,\n",
       " None,\n",
       " None,\n",
       " None,\n",
       " None,\n",
       " None,\n",
       " None,\n",
       " None,\n",
       " None,\n",
       " None,\n",
       " None,\n",
       " None,\n",
       " None,\n",
       " None,\n",
       " None,\n",
       " None,\n",
       " None,\n",
       " None,\n",
       " None,\n",
       " None,\n",
       " None,\n",
       " None,\n",
       " None,\n",
       " None,\n",
       " None,\n",
       " None,\n",
       " None,\n",
       " None,\n",
       " None,\n",
       " None,\n",
       " None,\n",
       " None,\n",
       " None,\n",
       " None,\n",
       " None,\n",
       " None,\n",
       " None,\n",
       " None,\n",
       " None,\n",
       " None,\n",
       " None,\n",
       " None,\n",
       " None,\n",
       " None,\n",
       " None,\n",
       " None,\n",
       " None,\n",
       " None,\n",
       " None,\n",
       " None,\n",
       " None,\n",
       " None,\n",
       " None,\n",
       " None,\n",
       " None,\n",
       " None,\n",
       " None,\n",
       " None,\n",
       " None,\n",
       " None,\n",
       " None]"
      ]
     },
     "execution_count": 79,
     "metadata": {},
     "output_type": "execute_result"
    }
   ],
   "source": [
    "importances = list(regressor.feature_importances_)\n",
    "feature_importances = [(feature, round(importance, 4)) for feature, importance in zip(feature_list, importances)]\n",
    "feature_importances = sorted(feature_importances, key = lambda x: x[1], reverse = True)\n",
    "[print('{:20} {}'.format(*pair)) for pair in feature_importances]"
   ]
  },
  {
   "cell_type": "code",
   "execution_count": 74,
   "id": "e330e527",
   "metadata": {},
   "outputs": [],
   "source": [
    "X = pd.merge(X_num,df_merged, on='movie_id')"
   ]
  },
  {
   "cell_type": "code",
   "execution_count": 75,
   "id": "f23f3745",
   "metadata": {},
   "outputs": [],
   "source": [
    "X = X.filter(['vote_count','budget','popularity','runtime','vote_average','warner','6','5','Drama','Science Fiction','Adventure','Romance','Comedy','Family','Français','crew_StevenSpielberg','Thriller','12','Fantasy','Action','11','ελληνικά','Crime','3','Español','Português','Pусский','7','Animation','Music'],axis=1)"
   ]
  },
  {
   "cell_type": "code",
   "execution_count": 76,
   "id": "bb69ced4",
   "metadata": {},
   "outputs": [],
   "source": [
    "X = X.fillna(0)"
   ]
  },
  {
   "cell_type": "code",
   "execution_count": 77,
   "id": "272dd308",
   "metadata": {},
   "outputs": [],
   "source": [
    "X_train, X_test, y_train, y_test = train_test_split(X, y, test_size=0.2, random_state=42)"
   ]
  },
  {
   "cell_type": "code",
   "execution_count": 78,
   "id": "a0e57a18",
   "metadata": {},
   "outputs": [
    {
     "data": {
      "text/plain": [
       "(0.8006861003810676, 0.67357509019965, 0.6176970345250721)"
      ]
     },
     "execution_count": 78,
     "metadata": {},
     "output_type": "execute_result"
    }
   ],
   "source": [
    "LR(), KNR(), MLPR()"
   ]
  }
 ],
 "metadata": {
  "kernelspec": {
   "display_name": "Python 3",
   "language": "python",
   "name": "python3"
  },
  "language_info": {
   "codemirror_mode": {
    "name": "ipython",
    "version": 3
   },
   "file_extension": ".py",
   "mimetype": "text/x-python",
   "name": "python",
   "nbconvert_exporter": "python",
   "pygments_lexer": "ipython3",
   "version": "3.8.8"
  }
 },
 "nbformat": 4,
 "nbformat_minor": 5
}
